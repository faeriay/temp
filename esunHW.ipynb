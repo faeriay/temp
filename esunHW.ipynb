{
 "cells": [
  {
   "cell_type": "markdown",
   "metadata": {},
   "source": [
    "# Q1"
   ]
  },
  {
   "cell_type": "code",
   "execution_count": 5,
   "metadata": {
    "collapsed": false
   },
   "outputs": [],
   "source": [
    "import re\n",
    "with open('./alice.txt', 'r') as f:\n",
    "    content = re.sub('[\\W]','',f.read())\n",
    "#     print type(content)\n",
    "dic = {}\n",
    "for i in content:\n",
    "    if i in dic:\n",
    "        dic[i]+=1\n",
    "    else:\n",
    "        dic[i]=1\n",
    "# dic    "
   ]
  },
  {
   "cell_type": "code",
   "execution_count": 31,
   "metadata": {
    "collapsed": false
   },
   "outputs": [],
   "source": [
    "dic2 ={}\n",
    "for i in set(content):\n",
    "    dic2[i]=content.count(i)\n",
    "# dic2"
   ]
  },
  {
   "cell_type": "markdown",
   "metadata": {},
   "source": [
    "# Q2"
   ]
  },
  {
   "cell_type": "code",
   "execution_count": 55,
   "metadata": {
    "collapsed": false
   },
   "outputs": [],
   "source": [
    "dic3={}\n",
    "for i in set(content.lower()):\n",
    "    sublist=[]\n",
    "    for j in content:\n",
    "        if i == j.lower():\n",
    "            sublist.append(j)\n",
    "    dic3[i]=sublist\n",
    "# print dic3,"
   ]
  },
  {
   "cell_type": "code",
   "execution_count": 56,
   "metadata": {
    "collapsed": false
   },
   "outputs": [],
   "source": [
    "dic4={}\n",
    "for i in set(content.lower()):\n",
    "    dic4[i]=re.findall('{}|{}'.format(i.upper(),i.lower()),content)\n",
    "# print dic4,"
   ]
  },
  {
   "cell_type": "markdown",
   "metadata": {},
   "source": [
    "# Q3 find primes under 100"
   ]
  },
  {
   "cell_type": "code",
   "execution_count": 70,
   "metadata": {
    "collapsed": false
   },
   "outputs": [],
   "source": [
    "plist=[]\n",
    "for i in range(2,100):\n",
    "    if i > 2:\n",
    "        flag = True\n",
    "        for j in range(2,i):\n",
    "            if i%j==0:\n",
    "                flag=False\n",
    "                break\n",
    "        if flag:\n",
    "            plist.append(i)\n",
    "    else:\n",
    "        plist.append(i)\n",
    "                \n",
    "            "
   ]
  },
  {
   "cell_type": "code",
   "execution_count": 101,
   "metadata": {
    "collapsed": false
   },
   "outputs": [
    {
     "name": "stdout",
     "output_type": "stream",
     "text": [
      "[3, 5, 7, 11, 13, 17, 19, 23, 29, 31, 37, 41, 43, 47, 53, 59, 61, 67, 71, 73, 79, 83, 89, 97]\n"
     ]
    }
   ],
   "source": [
    "prime = [x for x in range(2,100) if x%2!=0 and 0 not in (x%y for y in range(2,x))]\n",
    "print prime,"
   ]
  }
 ],
 "metadata": {
  "kernelspec": {
   "display_name": "Python 2",
   "language": "python",
   "name": "python2"
  },
  "language_info": {
   "codemirror_mode": {
    "name": "ipython",
    "version": 2
   },
   "file_extension": ".py",
   "mimetype": "text/x-python",
   "name": "python",
   "nbconvert_exporter": "python",
   "pygments_lexer": "ipython2",
   "version": "2.7.9"
  }
 },
 "nbformat": 4,
 "nbformat_minor": 0
}
